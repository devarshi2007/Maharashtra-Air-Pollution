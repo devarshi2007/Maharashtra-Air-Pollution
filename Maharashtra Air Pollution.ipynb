{
 "cells": [
  {
   "cell_type": "code",
   "execution_count": 2,
   "id": "0368c6cb-983d-49e8-b79e-3e878135729c",
   "metadata": {},
   "outputs": [],
   "source": [
    "import pandas as pd\n",
    "import numpy as np\n",
    "import matplotlib.pyplot as plt\n",
    "import seaborn as sns\n",
    "sns.set(style=\"whitegrid\")"
   ]
  },
  {
   "cell_type": "code",
   "execution_count": 3,
   "id": "4a2cbaad-8035-4b7d-88dd-16859db5eaf3",
   "metadata": {},
   "outputs": [],
   "source": [
    "df = pd.read_csv(\"Maharashtra_Air_Pollution.csv\", parse_dates=[\"Date\"])"
   ]
  },
  {
   "cell_type": "code",
   "execution_count": 4,
   "id": "90df8eba-ad3e-4f33-a601-3b9e34066018",
   "metadata": {},
   "outputs": [
    {
     "name": "stdout",
     "output_type": "stream",
     "text": [
      "        Date    City  PM2.5  PM10  NO2  SO2   CO  O3\n",
      "0 2024-01-01  Mumbai    105   180   45    8  1.2  30\n",
      "1 2024-01-01    Pune     90   150   38    6  1.0  35\n",
      "2 2024-01-01  Nagpur     75   140   42    5  0.8  40\n",
      "3 2024-02-01  Mumbai     98   170   40    7  1.1  32\n",
      "4 2024-02-01    Pune     85   145   36    6  0.9  36\n",
      "<class 'pandas.core.frame.DataFrame'>\n",
      "RangeIndex: 12 entries, 0 to 11\n",
      "Data columns (total 8 columns):\n",
      " #   Column  Non-Null Count  Dtype         \n",
      "---  ------  --------------  -----         \n",
      " 0   Date    12 non-null     datetime64[ns]\n",
      " 1   City    12 non-null     object        \n",
      " 2   PM2.5   12 non-null     int64         \n",
      " 3   PM10    12 non-null     int64         \n",
      " 4   NO2     12 non-null     int64         \n",
      " 5   SO2     12 non-null     int64         \n",
      " 6   CO      12 non-null     float64       \n",
      " 7   O3      12 non-null     int64         \n",
      "dtypes: datetime64[ns](1), float64(1), int64(5), object(1)\n",
      "memory usage: 900.0+ bytes\n",
      "None\n"
     ]
    }
   ],
   "source": [
    "print(df.head())       # Displays the first 5 rows of the dataset\n",
    "print(df.info())       # Shows column names, data types, and missing values"
   ]
  },
  {
   "cell_type": "code",
   "execution_count": 5,
   "id": "b0e1f1f7-93c4-464b-bbf6-d38e39f42f8b",
   "metadata": {},
   "outputs": [],
   "source": [
    "df.ffill(inplace=True)"
   ]
  },
  {
   "cell_type": "code",
   "execution_count": 6,
   "id": "d7c589ee-f495-4eec-938c-8117b1f9cf4d",
   "metadata": {},
   "outputs": [
    {
     "name": "stdout",
     "output_type": "stream",
     "text": [
      "                      Date       PM2.5        PM10        NO2        SO2  \\\n",
      "count                   12   12.000000   12.000000  12.000000  12.000000   \n",
      "mean   2024-02-15 12:00:00   83.166667  143.750000  38.666667   5.583333   \n",
      "min    2024-01-01 00:00:00   68.000000  115.000000  33.000000   4.000000   \n",
      "25%    2024-01-24 06:00:00   74.250000  130.000000  36.750000   4.750000   \n",
      "50%    2024-02-15 12:00:00   82.500000  142.500000  38.500000   5.500000   \n",
      "75%    2024-03-08 18:00:00   90.500000  152.500000  40.250000   6.250000   \n",
      "max    2024-04-01 00:00:00  105.000000  180.000000  45.000000   8.000000   \n",
      "std                    NaN   11.753787   19.554702   3.256695   1.311372   \n",
      "\n",
      "              CO         O3  \n",
      "count  12.000000  12.000000  \n",
      "mean    0.858333  35.666667  \n",
      "min     0.600000  30.000000  \n",
      "25%     0.700000  33.750000  \n",
      "50%     0.850000  36.000000  \n",
      "75%     1.000000  38.000000  \n",
      "max     1.200000  40.000000  \n",
      "std     0.192865   2.994945  \n"
     ]
    }
   ],
   "source": [
    "print(df.describe())"
   ]
  },
  {
   "cell_type": "code",
   "execution_count": 7,
   "id": "c3be2cb4-54f3-4f45-bf77-c0c142d6e8ac",
   "metadata": {},
   "outputs": [
    {
     "name": "stdout",
     "output_type": "stream",
     "text": [
      "Date     0\n",
      "City     0\n",
      "PM2.5    0\n",
      "PM10     0\n",
      "NO2      0\n",
      "SO2      0\n",
      "CO       0\n",
      "O3       0\n",
      "dtype: int64\n"
     ]
    }
   ],
   "source": [
    "print(df.isnull().sum())"
   ]
  },
  {
   "cell_type": "code",
   "execution_count": 8,
   "id": "eca38813-cfd2-41d8-97e5-7d972144ff1c",
   "metadata": {},
   "outputs": [],
   "source": [
    "df['Year'] = df['Date'].dt.year\n",
    "df['Month'] = df['Date'].dt.month"
   ]
  },
  {
   "cell_type": "code",
   "execution_count": 9,
   "id": "1f563787-b6a6-4a06-9490-7e5c5a362acb",
   "metadata": {},
   "outputs": [
    {
     "name": "stdout",
     "output_type": "stream",
     "text": [
      "          PM2.5    PM10        NO2       SO2        CO         O3\n",
      "Year                                                             \n",
      "2024  83.166667  143.75  38.666667  5.583333  0.858333  35.666667\n"
     ]
    }
   ],
   "source": [
    "yearly_avg = df.groupby('Year')[['PM2.5', 'PM10', 'NO2', 'SO2', 'CO', 'O3']].mean()\n",
    "print(yearly_avg)"
   ]
  },
  {
   "cell_type": "code",
   "execution_count": null,
   "id": "2238030e-8125-419c-b7f5-228e98e067fa",
   "metadata": {},
   "outputs": [],
   "source": []
  }
 ],
 "metadata": {
  "kernelspec": {
   "display_name": "Python [conda env:base] *",
   "language": "python",
   "name": "conda-base-py"
  },
  "language_info": {
   "codemirror_mode": {
    "name": "ipython",
    "version": 3
   },
   "file_extension": ".py",
   "mimetype": "text/x-python",
   "name": "python",
   "nbconvert_exporter": "python",
   "pygments_lexer": "ipython3",
   "version": "3.12.7"
  }
 },
 "nbformat": 4,
 "nbformat_minor": 5
}
